{
 "cells": [
  {
   "cell_type": "code",
   "execution_count": 3,
   "id": "639f8501-b978-4efc-aa5b-a2fd7f22b217",
   "metadata": {},
   "outputs": [],
   "source": [
    "import pandas as pd\n",
    "import numpy as np\n",
    "import matplotlib.pyplot as plt\n",
    "import seaborn as sns\n",
    "%matplotlib inline\n",
    "\n",
    "from sklearn.linear_model import LinearRegression, LogisticRegression\n",
    "from sklearn.metrics import r2_score, mean_absolute_error, mean_squared_error\n",
    "from sklearn.model_selection import train_test_split"
   ]
  },
  {
   "cell_type": "code",
   "execution_count": 60,
   "id": "b1feb994-0498-496d-97b8-5bc85bc0cbe4",
   "metadata": {},
   "outputs": [],
   "source": [
    "import json\n",
    "import pickle"
   ]
  },
  {
   "cell_type": "code",
   "execution_count": 4,
   "id": "92512b32-3119-42e5-ab53-a4ca3815aeaa",
   "metadata": {},
   "outputs": [],
   "source": [
    "df = pd.read_csv('adsales.csv')"
   ]
  },
  {
   "cell_type": "code",
   "execution_count": 5,
   "id": "831c6ee5-05b7-44d3-9a4b-3eef77efd410",
   "metadata": {},
   "outputs": [
    {
     "data": {
      "text/html": [
       "<div>\n",
       "<style scoped>\n",
       "    .dataframe tbody tr th:only-of-type {\n",
       "        vertical-align: middle;\n",
       "    }\n",
       "\n",
       "    .dataframe tbody tr th {\n",
       "        vertical-align: top;\n",
       "    }\n",
       "\n",
       "    .dataframe thead th {\n",
       "        text-align: right;\n",
       "    }\n",
       "</style>\n",
       "<table border=\"1\" class=\"dataframe\">\n",
       "  <thead>\n",
       "    <tr style=\"text-align: right;\">\n",
       "      <th></th>\n",
       "      <th>TV</th>\n",
       "      <th>Radio</th>\n",
       "      <th>Social Media</th>\n",
       "      <th>Influencer</th>\n",
       "      <th>Sales</th>\n",
       "    </tr>\n",
       "  </thead>\n",
       "  <tbody>\n",
       "    <tr>\n",
       "      <th>0</th>\n",
       "      <td>16.0</td>\n",
       "      <td>6.566231</td>\n",
       "      <td>2.907983</td>\n",
       "      <td>Mega</td>\n",
       "      <td>54.732757</td>\n",
       "    </tr>\n",
       "    <tr>\n",
       "      <th>1</th>\n",
       "      <td>13.0</td>\n",
       "      <td>9.237765</td>\n",
       "      <td>2.409567</td>\n",
       "      <td>Mega</td>\n",
       "      <td>46.677897</td>\n",
       "    </tr>\n",
       "    <tr>\n",
       "      <th>2</th>\n",
       "      <td>41.0</td>\n",
       "      <td>15.886446</td>\n",
       "      <td>2.913410</td>\n",
       "      <td>Mega</td>\n",
       "      <td>150.177829</td>\n",
       "    </tr>\n",
       "    <tr>\n",
       "      <th>3</th>\n",
       "      <td>83.0</td>\n",
       "      <td>30.020028</td>\n",
       "      <td>6.922304</td>\n",
       "      <td>Mega</td>\n",
       "      <td>298.246340</td>\n",
       "    </tr>\n",
       "    <tr>\n",
       "      <th>4</th>\n",
       "      <td>15.0</td>\n",
       "      <td>8.437408</td>\n",
       "      <td>1.405998</td>\n",
       "      <td>Micro</td>\n",
       "      <td>56.594181</td>\n",
       "    </tr>\n",
       "  </tbody>\n",
       "</table>\n",
       "</div>"
      ],
      "text/plain": [
       "     TV      Radio  Social Media Influencer       Sales\n",
       "0  16.0   6.566231      2.907983       Mega   54.732757\n",
       "1  13.0   9.237765      2.409567       Mega   46.677897\n",
       "2  41.0  15.886446      2.913410       Mega  150.177829\n",
       "3  83.0  30.020028      6.922304       Mega  298.246340\n",
       "4  15.0   8.437408      1.405998      Micro   56.594181"
      ]
     },
     "execution_count": 5,
     "metadata": {},
     "output_type": "execute_result"
    }
   ],
   "source": [
    "df.head()"
   ]
  },
  {
   "cell_type": "code",
   "execution_count": 7,
   "id": "f2f9ebdb-8b7d-4ceb-b7fb-f6af6a70a704",
   "metadata": {},
   "outputs": [],
   "source": [
    "df['Influencer'] = np.where(df['Influencer']=='Mega','mega',\n",
    "                           np.where(df['Influencer']=='Micro', 'micro',\n",
    "                                   np.where(df['Influencer']=='Macro','macro','nano')))"
   ]
  },
  {
   "cell_type": "code",
   "execution_count": 9,
   "id": "a56a0f90-846c-42ef-bcf4-144236c2ee81",
   "metadata": {},
   "outputs": [
    {
     "data": {
      "text/plain": [
       "Index(['TV', 'Radio', 'Social Media', 'Influencer', 'Sales'], dtype='object')"
      ]
     },
     "execution_count": 9,
     "metadata": {},
     "output_type": "execute_result"
    }
   ],
   "source": [
    "df.columns"
   ]
  },
  {
   "cell_type": "code",
   "execution_count": 10,
   "id": "ec2f3dbc-5bb7-4765-8c3c-f86ccde3b729",
   "metadata": {},
   "outputs": [],
   "source": [
    "df.columns = ['tv', 'radio', 'social_media', 'influencer', 'sales']"
   ]
  },
  {
   "cell_type": "code",
   "execution_count": 11,
   "id": "bee2d77d-7b13-4d6a-8f52-a25167f1ef65",
   "metadata": {},
   "outputs": [
    {
     "data": {
      "text/html": [
       "<div>\n",
       "<style scoped>\n",
       "    .dataframe tbody tr th:only-of-type {\n",
       "        vertical-align: middle;\n",
       "    }\n",
       "\n",
       "    .dataframe tbody tr th {\n",
       "        vertical-align: top;\n",
       "    }\n",
       "\n",
       "    .dataframe thead th {\n",
       "        text-align: right;\n",
       "    }\n",
       "</style>\n",
       "<table border=\"1\" class=\"dataframe\">\n",
       "  <thead>\n",
       "    <tr style=\"text-align: right;\">\n",
       "      <th></th>\n",
       "      <th>tv</th>\n",
       "      <th>radio</th>\n",
       "      <th>social_media</th>\n",
       "      <th>influencer</th>\n",
       "      <th>sales</th>\n",
       "    </tr>\n",
       "  </thead>\n",
       "  <tbody>\n",
       "    <tr>\n",
       "      <th>0</th>\n",
       "      <td>16.0</td>\n",
       "      <td>6.566231</td>\n",
       "      <td>2.907983</td>\n",
       "      <td>mega</td>\n",
       "      <td>54.732757</td>\n",
       "    </tr>\n",
       "    <tr>\n",
       "      <th>1</th>\n",
       "      <td>13.0</td>\n",
       "      <td>9.237765</td>\n",
       "      <td>2.409567</td>\n",
       "      <td>mega</td>\n",
       "      <td>46.677897</td>\n",
       "    </tr>\n",
       "    <tr>\n",
       "      <th>2</th>\n",
       "      <td>41.0</td>\n",
       "      <td>15.886446</td>\n",
       "      <td>2.913410</td>\n",
       "      <td>mega</td>\n",
       "      <td>150.177829</td>\n",
       "    </tr>\n",
       "    <tr>\n",
       "      <th>3</th>\n",
       "      <td>83.0</td>\n",
       "      <td>30.020028</td>\n",
       "      <td>6.922304</td>\n",
       "      <td>mega</td>\n",
       "      <td>298.246340</td>\n",
       "    </tr>\n",
       "    <tr>\n",
       "      <th>4</th>\n",
       "      <td>15.0</td>\n",
       "      <td>8.437408</td>\n",
       "      <td>1.405998</td>\n",
       "      <td>micro</td>\n",
       "      <td>56.594181</td>\n",
       "    </tr>\n",
       "  </tbody>\n",
       "</table>\n",
       "</div>"
      ],
      "text/plain": [
       "     tv      radio  social_media influencer       sales\n",
       "0  16.0   6.566231      2.907983       mega   54.732757\n",
       "1  13.0   9.237765      2.409567       mega   46.677897\n",
       "2  41.0  15.886446      2.913410       mega  150.177829\n",
       "3  83.0  30.020028      6.922304       mega  298.246340\n",
       "4  15.0   8.437408      1.405998      micro   56.594181"
      ]
     },
     "execution_count": 11,
     "metadata": {},
     "output_type": "execute_result"
    }
   ],
   "source": [
    "df.head()"
   ]
  },
  {
   "cell_type": "code",
   "execution_count": 12,
   "id": "ff4d39f8-3c5a-4e2c-9f59-fd9c2fea6bce",
   "metadata": {},
   "outputs": [],
   "source": [
    "df['radio']= round(df['radio'],2)"
   ]
  },
  {
   "cell_type": "code",
   "execution_count": 13,
   "id": "3c64a528-83f6-4036-b0cc-c72a88b039d7",
   "metadata": {},
   "outputs": [],
   "source": [
    "df['social_media'] = round(df['social_media'],2)"
   ]
  },
  {
   "cell_type": "code",
   "execution_count": 14,
   "id": "0a5911eb-c1ec-4303-a124-815c10f1dac7",
   "metadata": {},
   "outputs": [
    {
     "data": {
      "text/html": [
       "<div>\n",
       "<style scoped>\n",
       "    .dataframe tbody tr th:only-of-type {\n",
       "        vertical-align: middle;\n",
       "    }\n",
       "\n",
       "    .dataframe tbody tr th {\n",
       "        vertical-align: top;\n",
       "    }\n",
       "\n",
       "    .dataframe thead th {\n",
       "        text-align: right;\n",
       "    }\n",
       "</style>\n",
       "<table border=\"1\" class=\"dataframe\">\n",
       "  <thead>\n",
       "    <tr style=\"text-align: right;\">\n",
       "      <th></th>\n",
       "      <th>tv</th>\n",
       "      <th>radio</th>\n",
       "      <th>social_media</th>\n",
       "      <th>influencer</th>\n",
       "      <th>sales</th>\n",
       "    </tr>\n",
       "  </thead>\n",
       "  <tbody>\n",
       "    <tr>\n",
       "      <th>0</th>\n",
       "      <td>16.0</td>\n",
       "      <td>6.57</td>\n",
       "      <td>2.91</td>\n",
       "      <td>mega</td>\n",
       "      <td>54.732757</td>\n",
       "    </tr>\n",
       "    <tr>\n",
       "      <th>1</th>\n",
       "      <td>13.0</td>\n",
       "      <td>9.24</td>\n",
       "      <td>2.41</td>\n",
       "      <td>mega</td>\n",
       "      <td>46.677897</td>\n",
       "    </tr>\n",
       "    <tr>\n",
       "      <th>2</th>\n",
       "      <td>41.0</td>\n",
       "      <td>15.89</td>\n",
       "      <td>2.91</td>\n",
       "      <td>mega</td>\n",
       "      <td>150.177829</td>\n",
       "    </tr>\n",
       "    <tr>\n",
       "      <th>3</th>\n",
       "      <td>83.0</td>\n",
       "      <td>30.02</td>\n",
       "      <td>6.92</td>\n",
       "      <td>mega</td>\n",
       "      <td>298.246340</td>\n",
       "    </tr>\n",
       "    <tr>\n",
       "      <th>4</th>\n",
       "      <td>15.0</td>\n",
       "      <td>8.44</td>\n",
       "      <td>1.41</td>\n",
       "      <td>micro</td>\n",
       "      <td>56.594181</td>\n",
       "    </tr>\n",
       "  </tbody>\n",
       "</table>\n",
       "</div>"
      ],
      "text/plain": [
       "     tv  radio  social_media influencer       sales\n",
       "0  16.0   6.57          2.91       mega   54.732757\n",
       "1  13.0   9.24          2.41       mega   46.677897\n",
       "2  41.0  15.89          2.91       mega  150.177829\n",
       "3  83.0  30.02          6.92       mega  298.246340\n",
       "4  15.0   8.44          1.41      micro   56.594181"
      ]
     },
     "execution_count": 14,
     "metadata": {},
     "output_type": "execute_result"
    }
   ],
   "source": [
    "df.head()"
   ]
  },
  {
   "cell_type": "code",
   "execution_count": 16,
   "id": "51fff590-579e-4789-9b4d-b5a168f122f1",
   "metadata": {},
   "outputs": [],
   "source": [
    "df.isna().sum()\n",
    "df.dropna(inplace = True)"
   ]
  },
  {
   "cell_type": "code",
   "execution_count": 18,
   "id": "88687a23-c4a6-4e65-835e-db17f36b1571",
   "metadata": {},
   "outputs": [
    {
     "data": {
      "text/html": [
       "<div>\n",
       "<style scoped>\n",
       "    .dataframe tbody tr th:only-of-type {\n",
       "        vertical-align: middle;\n",
       "    }\n",
       "\n",
       "    .dataframe tbody tr th {\n",
       "        vertical-align: top;\n",
       "    }\n",
       "\n",
       "    .dataframe thead th {\n",
       "        text-align: right;\n",
       "    }\n",
       "</style>\n",
       "<table border=\"1\" class=\"dataframe\">\n",
       "  <thead>\n",
       "    <tr style=\"text-align: right;\">\n",
       "      <th></th>\n",
       "      <th>tv</th>\n",
       "      <th>radio</th>\n",
       "      <th>social_media</th>\n",
       "      <th>influencer</th>\n",
       "      <th>sales</th>\n",
       "    </tr>\n",
       "  </thead>\n",
       "  <tbody>\n",
       "    <tr>\n",
       "      <th>0</th>\n",
       "      <td>16.0</td>\n",
       "      <td>6.57</td>\n",
       "      <td>2.91</td>\n",
       "      <td>mega</td>\n",
       "      <td>54.732757</td>\n",
       "    </tr>\n",
       "    <tr>\n",
       "      <th>1</th>\n",
       "      <td>13.0</td>\n",
       "      <td>9.24</td>\n",
       "      <td>2.41</td>\n",
       "      <td>mega</td>\n",
       "      <td>46.677897</td>\n",
       "    </tr>\n",
       "    <tr>\n",
       "      <th>2</th>\n",
       "      <td>41.0</td>\n",
       "      <td>15.89</td>\n",
       "      <td>2.91</td>\n",
       "      <td>mega</td>\n",
       "      <td>150.177829</td>\n",
       "    </tr>\n",
       "    <tr>\n",
       "      <th>3</th>\n",
       "      <td>83.0</td>\n",
       "      <td>30.02</td>\n",
       "      <td>6.92</td>\n",
       "      <td>mega</td>\n",
       "      <td>298.246340</td>\n",
       "    </tr>\n",
       "    <tr>\n",
       "      <th>4</th>\n",
       "      <td>15.0</td>\n",
       "      <td>8.44</td>\n",
       "      <td>1.41</td>\n",
       "      <td>micro</td>\n",
       "      <td>56.594181</td>\n",
       "    </tr>\n",
       "  </tbody>\n",
       "</table>\n",
       "</div>"
      ],
      "text/plain": [
       "     tv  radio  social_media influencer       sales\n",
       "0  16.0   6.57          2.91       mega   54.732757\n",
       "1  13.0   9.24          2.41       mega   46.677897\n",
       "2  41.0  15.89          2.91       mega  150.177829\n",
       "3  83.0  30.02          6.92       mega  298.246340\n",
       "4  15.0   8.44          1.41      micro   56.594181"
      ]
     },
     "execution_count": 18,
     "metadata": {},
     "output_type": "execute_result"
    }
   ],
   "source": [
    "df.head()"
   ]
  },
  {
   "cell_type": "code",
   "execution_count": 27,
   "id": "34c6313f-4abb-4111-9835-4959e8948709",
   "metadata": {},
   "outputs": [],
   "source": [
    "q1 = df['radio'].quantile(0.25)\n",
    "q3 = df['radio'].quantile(0.75)\n",
    "iqr = q3-q1\n",
    "upper = q3 + 1.5*iqr\n",
    "\n",
    "df['radio'] = np.where(df['radio']> upper, upper, df['radio'])"
   ]
  },
  {
   "cell_type": "code",
   "execution_count": 28,
   "id": "62325731-f6f1-4ea2-bf35-d32c7bfbb224",
   "metadata": {},
   "outputs": [
    {
     "data": {
      "text/plain": [
       "<Axes: >"
      ]
     },
     "execution_count": 28,
     "metadata": {},
     "output_type": "execute_result"
    },
    {
     "data": {
      "image/png": "[encoded data removed]",
      "text/plain": [
       "<Figure size 640x480 with 1 Axes>"
      ]
     },
     "metadata": {},
     "output_type": "display_data"
    }
   ],
   "source": [
    "sns.boxplot(df['radio'])"
   ]
  },
  {
   "cell_type": "code",
   "execution_count": 29,
   "id": "6589f13b-d600-471c-b44f-08b282e6aa28",
   "metadata": {},
   "outputs": [
    {
     "data": {
      "text/plain": [
       "<Axes: >"
      ]
     },
     "execution_count": 29,
     "metadata": {},
     "output_type": "execute_result"
    },
    {
     "data": {
      "image/png": "[encoded data removed]",
      "text/plain": [
       "<Figure size 640x480 with 1 Axes>"
      ]
     },
     "metadata": {},
     "output_type": "display_data"
    }
   ],
   "source": [
    "q1 = df['social_media'].quantile(0.25)\n",
    "q3 = df['social_media'].quantile(0.75)\n",
    "iqr = q3-q1\n",
    "upper = q3 + 1.5*iqr\n",
    "\n",
    "df['social_media'] = np.where(df['social_media']> upper, upper, df['social_media'])\n",
    "sns.boxplot(df['social_media'])"
   ]
  },
  {
   "cell_type": "code",
   "execution_count": 30,
   "id": "af2f4197-1544-456f-95cf-25fd7805c3e4",
   "metadata": {},
   "outputs": [
    {
     "data": {
      "text/html": [
       "<div>\n",
       "<style scoped>\n",
       "    .dataframe tbody tr th:only-of-type {\n",
       "        vertical-align: middle;\n",
       "    }\n",
       "\n",
       "    .dataframe tbody tr th {\n",
       "        vertical-align: top;\n",
       "    }\n",
       "\n",
       "    .dataframe thead th {\n",
       "        text-align: right;\n",
       "    }\n",
       "</style>\n",
       "<table border=\"1\" class=\"dataframe\">\n",
       "  <thead>\n",
       "    <tr style=\"text-align: right;\">\n",
       "      <th></th>\n",
       "      <th>tv</th>\n",
       "      <th>radio</th>\n",
       "      <th>social_media</th>\n",
       "      <th>sales</th>\n",
       "      <th>influencer_macro</th>\n",
       "      <th>influencer_mega</th>\n",
       "      <th>influencer_micro</th>\n",
       "      <th>influencer_nano</th>\n",
       "    </tr>\n",
       "  </thead>\n",
       "  <tbody>\n",
       "    <tr>\n",
       "      <th>0</th>\n",
       "      <td>16.0</td>\n",
       "      <td>6.57</td>\n",
       "      <td>2.91</td>\n",
       "      <td>54.732757</td>\n",
       "      <td>0</td>\n",
       "      <td>1</td>\n",
       "      <td>0</td>\n",
       "      <td>0</td>\n",
       "    </tr>\n",
       "    <tr>\n",
       "      <th>1</th>\n",
       "      <td>13.0</td>\n",
       "      <td>9.24</td>\n",
       "      <td>2.41</td>\n",
       "      <td>46.677897</td>\n",
       "      <td>0</td>\n",
       "      <td>1</td>\n",
       "      <td>0</td>\n",
       "      <td>0</td>\n",
       "    </tr>\n",
       "    <tr>\n",
       "      <th>2</th>\n",
       "      <td>41.0</td>\n",
       "      <td>15.89</td>\n",
       "      <td>2.91</td>\n",
       "      <td>150.177829</td>\n",
       "      <td>0</td>\n",
       "      <td>1</td>\n",
       "      <td>0</td>\n",
       "      <td>0</td>\n",
       "    </tr>\n",
       "    <tr>\n",
       "      <th>3</th>\n",
       "      <td>83.0</td>\n",
       "      <td>30.02</td>\n",
       "      <td>6.92</td>\n",
       "      <td>298.246340</td>\n",
       "      <td>0</td>\n",
       "      <td>1</td>\n",
       "      <td>0</td>\n",
       "      <td>0</td>\n",
       "    </tr>\n",
       "    <tr>\n",
       "      <th>4</th>\n",
       "      <td>15.0</td>\n",
       "      <td>8.44</td>\n",
       "      <td>1.41</td>\n",
       "      <td>56.594181</td>\n",
       "      <td>0</td>\n",
       "      <td>0</td>\n",
       "      <td>1</td>\n",
       "      <td>0</td>\n",
       "    </tr>\n",
       "    <tr>\n",
       "      <th>...</th>\n",
       "      <td>...</td>\n",
       "      <td>...</td>\n",
       "      <td>...</td>\n",
       "      <td>...</td>\n",
       "      <td>...</td>\n",
       "      <td>...</td>\n",
       "      <td>...</td>\n",
       "      <td>...</td>\n",
       "    </tr>\n",
       "    <tr>\n",
       "      <th>4567</th>\n",
       "      <td>26.0</td>\n",
       "      <td>4.47</td>\n",
       "      <td>0.72</td>\n",
       "      <td>94.685866</td>\n",
       "      <td>0</td>\n",
       "      <td>0</td>\n",
       "      <td>1</td>\n",
       "      <td>0</td>\n",
       "    </tr>\n",
       "    <tr>\n",
       "      <th>4568</th>\n",
       "      <td>71.0</td>\n",
       "      <td>20.61</td>\n",
       "      <td>6.55</td>\n",
       "      <td>249.101915</td>\n",
       "      <td>0</td>\n",
       "      <td>0</td>\n",
       "      <td>0</td>\n",
       "      <td>1</td>\n",
       "    </tr>\n",
       "    <tr>\n",
       "      <th>4569</th>\n",
       "      <td>44.0</td>\n",
       "      <td>19.80</td>\n",
       "      <td>5.10</td>\n",
       "      <td>163.631457</td>\n",
       "      <td>0</td>\n",
       "      <td>0</td>\n",
       "      <td>1</td>\n",
       "      <td>0</td>\n",
       "    </tr>\n",
       "    <tr>\n",
       "      <th>4570</th>\n",
       "      <td>71.0</td>\n",
       "      <td>17.53</td>\n",
       "      <td>1.94</td>\n",
       "      <td>253.610411</td>\n",
       "      <td>1</td>\n",
       "      <td>0</td>\n",
       "      <td>0</td>\n",
       "      <td>0</td>\n",
       "    </tr>\n",
       "    <tr>\n",
       "      <th>4571</th>\n",
       "      <td>42.0</td>\n",
       "      <td>15.97</td>\n",
       "      <td>5.05</td>\n",
       "      <td>148.202414</td>\n",
       "      <td>0</td>\n",
       "      <td>0</td>\n",
       "      <td>1</td>\n",
       "      <td>0</td>\n",
       "    </tr>\n",
       "  </tbody>\n",
       "</table>\n",
       "<p>4546 rows × 8 columns</p>\n",
       "</div>"
      ],
      "text/plain": [
       "        tv  radio  social_media       sales  influencer_macro  \\\n",
       "0     16.0   6.57          2.91   54.732757                 0   \n",
       "1     13.0   9.24          2.41   46.677897                 0   \n",
       "2     41.0  15.89          2.91  150.177829                 0   \n",
       "3     83.0  30.02          6.92  298.246340                 0   \n",
       "4     15.0   8.44          1.41   56.594181                 0   \n",
       "...    ...    ...           ...         ...               ...   \n",
       "4567  26.0   4.47          0.72   94.685866                 0   \n",
       "4568  71.0  20.61          6.55  249.101915                 0   \n",
       "4569  44.0  19.80          5.10  163.631457                 0   \n",
       "4570  71.0  17.53          1.94  253.610411                 1   \n",
       "4571  42.0  15.97          5.05  148.202414                 0   \n",
       "\n",
       "      influencer_mega  influencer_micro  influencer_nano  \n",
       "0                   1                 0                0  \n",
       "1                   1                 0                0  \n",
       "2                   1                 0                0  \n",
       "3                   1                 0                0  \n",
       "4                   0                 1                0  \n",
       "...               ...               ...              ...  \n",
       "4567                0                 1                0  \n",
       "4568                0                 0                1  \n",
       "4569                0                 1                0  \n",
       "4570                0                 0                0  \n",
       "4571                0                 1                0  \n",
       "\n",
       "[4546 rows x 8 columns]"
      ]
     },
     "execution_count": 30,
     "metadata": {},
     "output_type": "execute_result"
    }
   ],
   "source": [
    "df = pd.get_dummies(df, columns=['influencer'], dtype=int )"
   ]
  },
  {
   "cell_type": "code",
   "execution_count": 31,
   "id": "a3fde612-65e7-4729-be52-7494029a72e3",
   "metadata": {},
   "outputs": [
    {
     "data": {
      "text/html": [
       "<div>\n",
       "<style scoped>\n",
       "    .dataframe tbody tr th:only-of-type {\n",
       "        vertical-align: middle;\n",
       "    }\n",
       "\n",
       "    .dataframe tbody tr th {\n",
       "        vertical-align: top;\n",
       "    }\n",
       "\n",
       "    .dataframe thead th {\n",
       "        text-align: right;\n",
       "    }\n",
       "</style>\n",
       "<table border=\"1\" class=\"dataframe\">\n",
       "  <thead>\n",
       "    <tr style=\"text-align: right;\">\n",
       "      <th></th>\n",
       "      <th>tv</th>\n",
       "      <th>radio</th>\n",
       "      <th>social_media</th>\n",
       "      <th>sales</th>\n",
       "      <th>influencer_macro</th>\n",
       "      <th>influencer_mega</th>\n",
       "      <th>influencer_micro</th>\n",
       "      <th>influencer_nano</th>\n",
       "    </tr>\n",
       "  </thead>\n",
       "  <tbody>\n",
       "    <tr>\n",
       "      <th>0</th>\n",
       "      <td>16.0</td>\n",
       "      <td>6.57</td>\n",
       "      <td>2.91</td>\n",
       "      <td>54.732757</td>\n",
       "      <td>0</td>\n",
       "      <td>1</td>\n",
       "      <td>0</td>\n",
       "      <td>0</td>\n",
       "    </tr>\n",
       "    <tr>\n",
       "      <th>1</th>\n",
       "      <td>13.0</td>\n",
       "      <td>9.24</td>\n",
       "      <td>2.41</td>\n",
       "      <td>46.677897</td>\n",
       "      <td>0</td>\n",
       "      <td>1</td>\n",
       "      <td>0</td>\n",
       "      <td>0</td>\n",
       "    </tr>\n",
       "    <tr>\n",
       "      <th>2</th>\n",
       "      <td>41.0</td>\n",
       "      <td>15.89</td>\n",
       "      <td>2.91</td>\n",
       "      <td>150.177829</td>\n",
       "      <td>0</td>\n",
       "      <td>1</td>\n",
       "      <td>0</td>\n",
       "      <td>0</td>\n",
       "    </tr>\n",
       "    <tr>\n",
       "      <th>3</th>\n",
       "      <td>83.0</td>\n",
       "      <td>30.02</td>\n",
       "      <td>6.92</td>\n",
       "      <td>298.246340</td>\n",
       "      <td>0</td>\n",
       "      <td>1</td>\n",
       "      <td>0</td>\n",
       "      <td>0</td>\n",
       "    </tr>\n",
       "    <tr>\n",
       "      <th>4</th>\n",
       "      <td>15.0</td>\n",
       "      <td>8.44</td>\n",
       "      <td>1.41</td>\n",
       "      <td>56.594181</td>\n",
       "      <td>0</td>\n",
       "      <td>0</td>\n",
       "      <td>1</td>\n",
       "      <td>0</td>\n",
       "    </tr>\n",
       "  </tbody>\n",
       "</table>\n",
       "</div>"
      ],
      "text/plain": [
       "     tv  radio  social_media       sales  influencer_macro  influencer_mega  \\\n",
       "0  16.0   6.57          2.91   54.732757                 0                1   \n",
       "1  13.0   9.24          2.41   46.677897                 0                1   \n",
       "2  41.0  15.89          2.91  150.177829                 0                1   \n",
       "3  83.0  30.02          6.92  298.246340                 0                1   \n",
       "4  15.0   8.44          1.41   56.594181                 0                0   \n",
       "\n",
       "   influencer_micro  influencer_nano  \n",
       "0                 0                0  \n",
       "1                 0                0  \n",
       "2                 0                0  \n",
       "3                 0                0  \n",
       "4                 1                0  "
      ]
     },
     "execution_count": 31,
     "metadata": {},
     "output_type": "execute_result"
    }
   ],
   "source": [
    "df.head()"
   ]
  },
  {
   "cell_type": "code",
   "execution_count": 32,
   "id": "441a78e2-0486-4c68-adcb-e9f4bef7deed",
   "metadata": {},
   "outputs": [],
   "source": [
    "x = df.drop('sales', axis =1)\n",
    "y = df['sales']"
   ]
  },
  {
   "cell_type": "code",
   "execution_count": 36,
   "id": "16733df2-b4ac-4da7-a94d-bc2a3ede2a4d",
   "metadata": {},
   "outputs": [],
   "source": [
    "x_train, x_test, y_train,y_test = train_test_split(x,y, test_size = 0.2, random_state = 2)"
   ]
  },
  {
   "cell_type": "code",
   "execution_count": 37,
   "id": "c30d3bd8-f6a6-4b0d-8fb9-726fcd4284a2",
   "metadata": {},
   "outputs": [],
   "source": [
    "mod = LinearRegression()"
   ]
  },
  {
   "cell_type": "code",
   "execution_count": 38,
   "id": "56a9750f-3086-4ca3-b961-77bcf0a8d744",
   "metadata": {},
   "outputs": [
    {
     "data": {
      "text/html": [
       "<style>#sk-container-id-1 {color: black;background-color: white;}#sk-container-id-1 pre{padding: 0;}#sk-container-id-1 div.sk-toggleable {background-color: white;}#sk-container-id-1 label.sk-toggleable__label {cursor: pointer;display: block;width: 100%;margin-bottom: 0;padding: 0.3em;box-sizing: border-box;text-align: center;}#sk-container-id-1 label.sk-toggleable__label-arrow:before {content: \"▸\";float: left;margin-right: 0.25em;color: #696969;}#sk-container-id-1 label.sk-toggleable__label-arrow:hover:before {color: black;}#sk-container-id-1 div.sk-estimator:hover label.sk-toggleable__label-arrow:before {color: black;}#sk-container-id-1 div.sk-toggleable__content {max-height: 0;max-width: 0;overflow: hidden;text-align: left;background-color: #f0f8ff;}#sk-container-id-1 div.sk-toggleable__content pre {margin: 0.2em;color: black;border-radius: 0.25em;background-color: #f0f8ff;}#sk-container-id-1 input.sk-toggleable__control:checked~div.sk-toggleable__content {max-height: 200px;max-width: 100%;overflow: auto;}#sk-container-id-1 input.sk-toggleable__control:checked~label.sk-toggleable__label-arrow:before {content: \"▾\";}#sk-container-id-1 div.sk-estimator input.sk-toggleable__control:checked~label.sk-toggleable__label {background-color: #d4ebff;}#sk-container-id-1 div.sk-label input.sk-toggleable__control:checked~label.sk-toggleable__label {background-color: #d4ebff;}#sk-container-id-1 input.sk-hidden--visually {border: 0;clip: rect(1px 1px 1px 1px);clip: rect(1px, 1px, 1px, 1px);height: 1px;margin: -1px;overflow: hidden;padding: 0;position: absolute;width: 1px;}#sk-container-id-1 div.sk-estimator {font-family: monospace;background-color: #f0f8ff;border: 1px dotted black;border-radius: 0.25em;box-sizing: border-box;margin-bottom: 0.5em;}#sk-container-id-1 div.sk-estimator:hover {background-color: #d4ebff;}#sk-container-id-1 div.sk-parallel-item::after {content: \"\";width: 100%;border-bottom: 1px solid gray;flex-grow: 1;}#sk-container-id-1 div.sk-label:hover label.sk-toggleable__label {background-color: #d4ebff;}#sk-container-id-1 div.sk-serial::before {content: \"\";position: absolute;border-left: 1px solid gray;box-sizing: border-box;top: 0;bottom: 0;left: 50%;z-index: 0;}#sk-container-id-1 div.sk-serial {display: flex;flex-direction: column;align-items: center;background-color: white;padding-right: 0.2em;padding-left: 0.2em;position: relative;}#sk-container-id-1 div.sk-item {position: relative;z-index: 1;}#sk-container-id-1 div.sk-parallel {display: flex;align-items: stretch;justify-content: center;background-color: white;position: relative;}#sk-container-id-1 div.sk-item::before, #sk-container-id-1 div.sk-parallel-item::before {content: \"\";position: absolute;border-left: 1px solid gray;box-sizing: border-box;top: 0;bottom: 0;left: 50%;z-index: -1;}#sk-container-id-1 div.sk-parallel-item {display: flex;flex-direction: column;z-index: 1;position: relative;background-color: white;}#sk-container-id-1 div.sk-parallel-item:first-child::after {align-self: flex-end;width: 50%;}#sk-container-id-1 div.sk-parallel-item:last-child::after {align-self: flex-start;width: 50%;}#sk-container-id-1 div.sk-parallel-item:only-child::after {width: 0;}#sk-container-id-1 div.sk-dashed-wrapped {border: 1px dashed gray;margin: 0 0.4em 0.5em 0.4em;box-sizing: border-box;padding-bottom: 0.4em;background-color: white;}#sk-container-id-1 div.sk-label label {font-family: monospace;font-weight: bold;display: inline-block;line-height: 1.2em;}#sk-container-id-1 div.sk-label-container {text-align: center;}#sk-container-id-1 div.sk-container {/* jupyter's `normalize.less` sets `[hidden] { display: none; }` but bootstrap.min.css set `[hidden] { display: none !important; }` so we also need the `!important` here to be able to override the default hidden behavior on the sphinx rendered scikit-learn.org. See: https://github.com/scikit-learn/scikit-learn/issues/21755 */display: inline-block !important;position: relative;}#sk-container-id-1 div.sk-text-repr-fallback {display: none;}</style><div id=\"sk-container-id-1\" class=\"sk-top-container\"><div class=\"sk-text-repr-fallback\"><pre>LinearRegression()</pre><b>In a Jupyter environment, please rerun this cell to show the HTML representation or trust the notebook. <br />On GitHub, the HTML representation is unable to render, please try loading this page with nbviewer.org.</b></div><div class=\"sk-container\" hidden><div class=\"sk-item\"><div class=\"sk-estimator sk-toggleable\"><input class=\"sk-toggleable__control sk-hidden--visually\" id=\"sk-estimator-id-1\" type=\"checkbox\" checked><label for=\"sk-estimator-id-1\" class=\"sk-toggleable__label sk-toggleable__label-arrow\">LinearRegression</label><div class=\"sk-toggleable__content\"><pre>LinearRegression()</pre></div></div></div></div></div>"
      ],
      "text/plain": [
       "LinearRegression()"
      ]
     },
     "execution_count": 38,
     "metadata": {},
     "output_type": "execute_result"
    }
   ],
   "source": [
    "mod.fit(x_train,y_train)"
   ]
  },
  {
   "cell_type": "code",
   "execution_count": 39,
   "id": "d420c62a-d0fd-4631-bb13-7fb97ec68e67",
   "metadata": {},
   "outputs": [
    {
     "data": {
      "text/plain": [
       "(8.63876117646443, 2.352623553273434, 0.9990022581274304, 0.9990000580350984)"
      ]
     },
     "execution_count": 39,
     "metadata": {},
     "output_type": "execute_result"
    }
   ],
   "source": [
    "comment = 'This is train data'\n",
    "\n",
    "def evaluation(comment, data, model):\n",
    "    pred = model.predict(data)\n",
    "    mse = mean_squared_error(y_train, pred)\n",
    "    mae = mean_absolute_error(y_train, pred)\n",
    "    r2 = r2_score(y_train, pred)\n",
    "    adj = 1 - (1-r2)*(data.shape[0])/(data.shape[0]- data.shape[1] - 1)\n",
    "    return mse,mae,r2,adj\n",
    "\n",
    "evaluation(comment, x_train,mod)"
   ]
  },
  {
   "cell_type": "code",
   "execution_count": 41,
   "id": "4de4566a-477d-4899-8981-69f607725614",
   "metadata": {},
   "outputs": [
    {
     "data": {
      "text/plain": [
       "(8.913590162027706, 2.411326410442482, 0.9989655610922099, 0.9989563864677505)"
      ]
     },
     "execution_count": 41,
     "metadata": {},
     "output_type": "execute_result"
    }
   ],
   "source": [
    "comment = 'This is test data'\n",
    "\n",
    "def evaluation(comment, data, model):\n",
    "    pred = model.predict(data)\n",
    "    mse = mean_squared_error(y_test, pred)\n",
    "    mae = mean_absolute_error(y_test, pred)\n",
    "    r2 = r2_score(y_test, pred)\n",
    "    adj = 1 - (1-r2)*(data.shape[0])/(data.shape[0]- data.shape[1] - 1)\n",
    "    return mse,mae,r2,adj\n",
    "\n",
    "evaluation(comment, x_test,mod)"
   ]
  },
  {
   "cell_type": "code",
   "execution_count": 46,
   "id": "989af7f6-d672-41e2-b03e-24b9345984e5",
   "metadata": {},
   "outputs": [
    {
     "data": {
      "text/plain": [
       "177.86799406904606"
      ]
     },
     "execution_count": 46,
     "metadata": {},
     "output_type": "execute_result"
    }
   ],
   "source": [
    "mod.predict(x_train.head(1))[0]"
   ]
  },
  {
   "cell_type": "code",
   "execution_count": 47,
   "id": "41563ae3-674c-4a4b-96c6-162461e4cb18",
   "metadata": {},
   "outputs": [
    {
     "data": {
      "text/plain": [
       "Index(['tv', 'radio', 'social_media', 'influencer_macro', 'influencer_mega',\n",
       "       'influencer_micro', 'influencer_nano'],\n",
       "      dtype='object')"
      ]
     },
     "execution_count": 47,
     "metadata": {},
     "output_type": "execute_result"
    }
   ],
   "source": [
    "x_train.columns"
   ]
  },
  {
   "cell_type": "code",
   "execution_count": 49,
   "id": "95ae008e-c1b2-42de-b1cb-f33016e6b3f1",
   "metadata": {},
   "outputs": [],
   "source": [
    "project_data = {\"columns\" : [\"tv\", \"radio\", \"social_media\", \"influencer_macro\", \"influencer_mega\",\n",
    "       \"influencer_micro\", \"influencer_nano\"]}"
   ]
  },
  {
   "cell_type": "code",
   "execution_count": 57,
   "id": "a2f0acce-2166-4b01-83c3-9471363411cd",
   "metadata": {},
   "outputs": [],
   "source": [
    "tv = 43.3\n",
    "radio = 23.2\n",
    "social_media = 7.1\n",
    "influencer =\"micro\""
   ]
  },
  {
   "cell_type": "code",
   "execution_count": 58,
   "id": "4735d483-6141-4016-9dac-2f2799140e86",
   "metadata": {},
   "outputs": [
    {
     "data": {
      "text/plain": [
       "array([43.3, 23.2,  7.1,  0. ,  0. ,  1. ,  0. ])"
      ]
     },
     "execution_count": 58,
     "metadata": {},
     "output_type": "execute_result"
    }
   ],
   "source": [
    "test_array = np.zeros(len(project_data[\"columns\"]))\n",
    "test_array[0] = tv\n",
    "test_array[1]= radio\n",
    "test_array[2]= social_media\n",
    "influ_ind = project_data['columns'].index(\"influencer_\"+ influencer)\n",
    "test_array[influ_ind] = 1\n",
    "test_array"
   ]
  },
  {
   "cell_type": "code",
   "execution_count": 59,
   "id": "4f6fa8f9-4900-4903-b32c-0e45ad4596b9",
   "metadata": {},
   "outputs": [
    {
     "name": "stderr",
     "output_type": "stream",
     "text": [
      "C:\\Users\\D\\anaconda3\\Lib\\site-packages\\sklearn\\base.py:439: UserWarning: X does not have valid feature names, but LinearRegression was fitted with feature names\n",
      "  warnings.warn(\n"
     ]
    },
    {
     "data": {
      "text/plain": [
       "154.08937669532966"
      ]
     },
     "execution_count": 59,
     "metadata": {},
     "output_type": "execute_result"
    }
   ],
   "source": [
    "mod.predict([test_array])[0]"
   ]
  },
  {
   "cell_type": "code",
   "execution_count": 62,
   "id": "201355e7-0914-41da-b81a-6a056c23ca71",
   "metadata": {},
   "outputs": [],
   "source": [
    "with open('adsales.pkl', 'wb') as f:\n",
    "    pickle.dump(mod,f)\n",
    "\n",
    "with open('project_data.json','w') as f:\n",
    "    json.dump(project_data,f)"
   ]
  },
  {
   "cell_type": "code",
   "execution_count": null,
   "id": "ff8c8c56-ac42-4f28-9d0d-82cc96c14326",
   "metadata": {},
   "outputs": [],
   "source": []
  },
  {
   "cell_type": "code",
   "execution_count": null,
   "id": "a5fb4a4f-6ccd-48f1-a559-b8e669d356ef",
   "metadata": {},
   "outputs": [],
   "source": []
  },
  {
   "cell_type": "code",
   "execution_count": null,
   "id": "121e858f-47c4-4159-bfc6-f530d4a821f2",
   "metadata": {},
   "outputs": [],
   "source": []
  },
  {
   "cell_type": "code",
   "execution_count": null,
   "id": "1b704689-5c32-4bd9-9944-c151e1af45d5",
   "metadata": {},
   "outputs": [],
   "source": []
  },
  {
   "cell_type": "code",
   "execution_count": null,
   "id": "716d5358-6b50-4051-b8de-d30c43ac0ec7",
   "metadata": {},
   "outputs": [],
   "source": []
  },
  {
   "cell_type": "code",
   "execution_count": null,
   "id": "b9aaffdb-7004-4cb2-9061-a8585c9cea63",
   "metadata": {},
   "outputs": [],
   "source": []
  },
  {
   "cell_type": "code",
   "execution_count": null,
   "id": "e32eee42-320e-42ec-aa2b-9dfa0cd31b97",
   "metadata": {},
   "outputs": [],
   "source": []
  },
  {
   "cell_type": "code",
   "execution_count": null,
   "id": "20ee0d99-67f4-493d-9131-2ff70bf2ff0f",
   "metadata": {},
   "outputs": [],
   "source": []
  },
  {
   "cell_type": "code",
   "execution_count": null,
   "id": "2bcc97d7-03e6-4f0e-8d7a-e9181ce8796d",
   "metadata": {},
   "outputs": [],
   "source": []
  },
  {
   "cell_type": "code",
   "execution_count": null,
   "id": "b489a367-b748-4ed3-84ee-1dd1bf7f99a3",
   "metadata": {},
   "outputs": [],
   "source": []
  },
  {
   "cell_type": "code",
   "execution_count": null,
   "id": "0fc0eaa8-4406-4aec-8c46-349166c827a7",
   "metadata": {},
   "outputs": [],
   "source": []
  },
  {
   "cell_type": "code",
   "execution_count": null,
   "id": "ba0c24fd-ac0a-4a6d-858d-96c3ac89451a",
   "metadata": {},
   "outputs": [],
   "source": []
  }
 ],
 "metadata": {
  "kernelspec": {
   "display_name": "Python 3 (ipykernel)",
   "language": "python",
   "name": "python3"
  },
  "language_info": {
   "codemirror_mode": {
    "name": "ipython",
    "version": 3
   },
   "file_extension": ".py",
   "mimetype": "text/x-python",
   "name": "python",
   "nbconvert_exporter": "python",
   "pygments_lexer": "ipython3",
   "version": "3.11.5"
  }
 },
 "nbformat": 4,
 "nbformat_minor": 5
}
